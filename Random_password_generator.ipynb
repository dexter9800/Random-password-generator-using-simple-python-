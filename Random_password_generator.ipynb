{
  "nbformat": 4,
  "nbformat_minor": 0,
  "metadata": {
    "colab": {
      "provenance": []
    },
    "kernelspec": {
      "name": "python3",
      "display_name": "Python 3"
    },
    "language_info": {
      "name": "python"
    }
  },
  "cells": [
    {
      "cell_type": "code",
      "execution_count": 1,
      "metadata": {
        "colab": {
          "base_uri": "https://localhost:8080/"
        },
        "id": "BnljlOUYv9MY",
        "outputId": "b9013bb8-3fa1-4514-a2d6-6206ef3fde99"
      },
      "outputs": [
        {
          "output_type": "stream",
          "name": "stdout",
          "text": [
            "Welcome to the PyPassword Generator!\n",
            "How many letters would you like in your password?\n",
            "4\n",
            "How many symbols would you like?\n",
            "5\n",
            "How many numbers would you like?\n",
            "7\n",
            "X*62+3q3)71B#*5X\n"
          ]
        }
      ],
      "source": [
        "#Password Generator Project\n",
        "import random\n",
        "letters = ['a', 'b', 'c', 'd', 'e', 'f', 'g', 'h', 'i', 'j', 'k', 'l', 'm', 'n', 'o', 'p', 'q', 'r', 's', 't', 'u', 'v', 'w', 'x', 'y', 'z', 'A', 'B', 'C', 'D', 'E', 'F', 'G', 'H', 'I', 'J', 'K', 'L', 'M', 'N', 'O', 'P', 'Q', 'R', 'S', 'T', 'U', 'V', 'W', 'X', 'Y', 'Z']\n",
        "numbers = ['0', '1', '2', '3', '4', '5', '6', '7', '8', '9']\n",
        "symbols = ['!', '#', '$', '%', '&', '(', ')', '*', '+']\n",
        "\n",
        "print(\"Welcome to the PyPassword Generator!\")\n",
        "nr_letters= int(input(\"How many letters would you like in your password?\\n\")) \n",
        "nr_symbols = int(input(f\"How many symbols would you like?\\n\"))\n",
        "nr_numbers = int(input(f\"How many numbers would you like?\\n\"))\n",
        "\n",
        "#Eazy Level - Order not randomised:\n",
        "#e.g. 4 letter, 2 symbol, 2 number = JduE&!91\n",
        "password=\"\"\n",
        "for i in range(0,nr_letters):\n",
        "    password+=random.choice(letters)\n",
        "for i in range(0,nr_numbers):\n",
        "    password+=random.choice(numbers)\n",
        "for i in range(0,nr_symbols):\n",
        "    password+=random.choice(symbols)\n",
        "password=list(password)\n",
        "random.shuffle(password) \n",
        "   \n",
        "print(*password,sep='')"
      ]
    }
  ]
}